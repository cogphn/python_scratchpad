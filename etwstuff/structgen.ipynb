{
 "cells": [
  {
   "cell_type": "code",
   "execution_count": 71,
   "id": "d94c789c",
   "metadata": {},
   "outputs": [],
   "source": [
    "import pandas as pd \n",
    "from bs4 import BeautifulSoup\n",
    "\n",
    "import re\n",
    "\n",
    "def camel_to_snake(name):\n",
    "    name = re.sub('(.)([A-Z][a-z]+)', r'\\1_\\2', name)\n",
    "    return re.sub('([a-z0-9])([A-Z])', r'\\1_\\2', name).lower()\n"
   ]
  },
  {
   "cell_type": "code",
   "execution_count": 72,
   "id": "a60d98ad",
   "metadata": {},
   "outputs": [],
   "source": [
    "with open(\"ms_tcp.xml\") as infile:\n",
    "    data = infile.read()\n",
    "#\n",
    "\n",
    "\n",
    "soup = BeautifulSoup(data, \"xml\")\n",
    "\n",
    "provider_data = soup.find(\"provider\")\n",
    "tasks = soup.find_all(\"task\")\n",
    "events = soup.find_all(\"event\")\n",
    "templates = soup.find_all(\"template\")\n",
    "\n",
    "taskdata = []\n",
    "for task in tasks:\n",
    "    taskdata.append({\"event_id\":task['value'], \"event_description\":task['name']})\n",
    "#\n",
    "\n",
    "eventdata = []\n",
    "for event in events:\n",
    "    eventdata.append({\"event_id\": event[\"value\"], \"template\": event[\"template\"], \"symbol\": event[\"symbol\"]})\n",
    "\n",
    "#\n",
    "templatedata = []\n",
    "for template in templates:\n",
    "    ret = {\"name\": template[\"tid\"]}\n",
    "    for datafield in template.find_all(\"data\"):\n",
    "        templatedata.append({\"template_name\": template[\"tid\"], \"template_name_sc\": camel_to_snake(template[\"tid\"]) ,\"datafield_name\": datafield[\"name\"], \"datafield_name_sc\": camel_to_snake(datafield[\"name\"]), \"datafield_type\": datafield[\"inType\"]})\n",
    "\n"
   ]
  },
  {
   "cell_type": "code",
   "execution_count": 75,
   "id": "ab52432f",
   "metadata": {},
   "outputs": [],
   "source": [
    "eid_match_str = \"\"\"\n",
    "let event_desc = match record.event_id() {\n",
    "\n",
    "\"\"\"\n",
    "\n",
    "for event in eventdata:\n",
    "    eid_match_str +=  \"\\t\" + event[\"event_id\"] + ' => \"' + event[\"symbol\"] + '\",\\n'\n",
    "#\n",
    "\n",
    "eid_match_str += \"}\"\n",
    "\n",
    "with open(f\"{provider_data['name']}_eid_match.txt\",\"w\") as outfile:\n",
    "    outfile.write(eid_match_str)\n"
   ]
  },
  {
   "cell_type": "code",
   "execution_count": 76,
   "id": "ac10b55d",
   "metadata": {},
   "outputs": [],
   "source": [
    "tdf = pd.DataFrame(templatedata)\n",
    "\n",
    "tdf['rdtype'] = ''\n",
    "\n",
    "tdf.loc[tdf['datafield_type']=='win:UInt32', 'rdtype'] =  'Option<u32>'\n",
    "tdf.loc[tdf['datafield_type']=='win:Pointer','rdtype'] =  'Option<Vec<u8>>'\n",
    "tdf.loc[tdf['datafield_type']=='win:UInt64', 'rdtype'] = 'Option<u64>'\n",
    "tdf.loc[tdf['datafield_type']=='win:UInt16', 'rdtype'] = 'Option<u16>'\n",
    "tdf.loc[tdf['datafield_type']=='win:AnsiString', 'rdtype'] = 'Option<String>'\n",
    "tdf.loc[tdf['datafield_type']=='win:Binary', 'rdtype'] = 'Option<Vec<u8>>'\n",
    "tdf.loc[tdf['datafield_type']=='win:GUID', 'rdtype'] = 'Option<Vec<u8>>'\n",
    "tdf.loc[tdf['datafield_type']=='win:Int32', 'rdtype'] = 'Option<i32>'\n",
    "tdf.loc[tdf['datafield_type']=='win:Int64', 'rdtype'] = 'Option<i64>'\n",
    "tdf.loc[tdf['datafield_type']=='win:UInt8', 'rdtype'] = 'Option<u8>'\n",
    "tdf.loc[tdf['datafield_type']=='win:UnicodeString', 'rdtype'] = 'Option<String>'\n",
    "\n",
    "\n",
    "tdf.groupby(['datafield_type','rdtype']).agg({'template_name':['count']})\n",
    "\n",
    "template_index = tdf[['template_name']].copy().drop_duplicates()"
   ]
  },
  {
   "cell_type": "code",
   "execution_count": 78,
   "id": "8679159f",
   "metadata": {},
   "outputs": [],
   "source": [
    "str1 = \"#[derive(Serialize, Deserialize, Debug)]\"\n",
    "\n",
    "for idx, row in template_index.iterrows():\n",
    "    datafields = tdf[tdf['template_name']==row['template_name']]\n",
    "    str1 += \"\\npub struct \" + row['template_name'] + '{\\n'\n",
    "    for i, r in datafields.iterrows():\n",
    "        str1 += \"\\tpub \"+ r['datafield_name_sc'] + \": \" + r['rdtype'] + \",\\n\"\n",
    "    str1 += \"}\\n#[derive(Serialize, Deserialize, Debug)]\"\n",
    "\n",
    "with open(f\"{provider_data['name']}_structs.txt\",\"w\") as outfile:\n",
    "    outfile.write(str1)"
   ]
  }
 ],
 "metadata": {
  "kernelspec": {
   "display_name": ".venv2",
   "language": "python",
   "name": "python3"
  },
  "language_info": {
   "codemirror_mode": {
    "name": "ipython",
    "version": 3
   },
   "file_extension": ".py",
   "mimetype": "text/x-python",
   "name": "python",
   "nbconvert_exporter": "python",
   "pygments_lexer": "ipython3",
   "version": "3.12.0"
  }
 },
 "nbformat": 4,
 "nbformat_minor": 5
}
